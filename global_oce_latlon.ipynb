{
 "cells": [
  {
   "cell_type": "markdown",
   "id": "optional-clear",
   "metadata": {},
   "source": [
    "after running the verification experiment tutorial_global_oce_latlon in \"myrun\" with useSingleCPUio = .TRUE., dumpInitAndLast = .FALSE., monitorFreq = 2592000., dumpFreq = 0., taveFreq = 311040000., and for 100 years, run this notebook to plot some fields"
   ]
  },
  {
   "cell_type": "code",
   "execution_count": 1,
   "id": "local-compact",
   "metadata": {},
   "outputs": [],
   "source": [
    "%matplotlib widget\n",
    "\n",
    "\n",
    "import numpy as np\n",
    "import matplotlib.pyplot as plt\n",
    "import os\n",
    "from xmitgcm import open_mdsdataset\n",
    "# helper function\n",
    "def sq(a):\n",
    "    a = np.squeeze(a)\n",
    "    return np.ma.masked_array(a==0.,a)\n",
    "\n",
    "bdir = '/Users/mlosch/Documents/teaching/GLOMAR/AdvancedOceanModelling/MITgcm/verification'\n",
    "experiment = 'tutorial_global_oce_latlon/myrun'"
   ]
  },
  {
   "cell_type": "code",
   "execution_count": 2,
   "id": "textile-candidate",
   "metadata": {},
   "outputs": [],
   "source": [
    "import warnings\n",
    "warnings.filterwarnings('ignore')\n",
    "# suppress numerous warnings only when reading data into the workspace with xmitgcm.open_mdsdataset\n",
    "with warnings.catch_warnings():\n",
    "    # this will suppress all warnings in this block\n",
    "    warnings.simplefilter(\"ignore\")\n",
    "    ds = open_mdsdataset(os.path.join(bdir,experiment), delta_t=86400., ref_date=\"2001-1-1 0:0:0\", geometry='sphericalpolar')"
   ]
  },
  {
   "cell_type": "code",
   "execution_count": 3,
   "id": "plain-geography",
   "metadata": {},
   "outputs": [
    {
     "data": {
      "application/vnd.jupyter.widget-view+json": {
       "model_id": "5009d5c3b04b4b9981292685acc9df8c",
       "version_major": 2,
       "version_minor": 0
      },
      "text/plain": [
       "Canvas(toolbar=Toolbar(toolitems=[('Home', 'Reset original view', 'home', 'home'), ('Back', 'Back to previous …"
      ]
     },
     "metadata": {},
     "output_type": "display_data"
    }
   ],
   "source": [
    "plt.close('all')\n",
    "fig1,ax1 = plt.subplots(2,2,sharex=True,sharey=True,figsize=(11,6))\n",
    "# replace zeros by NaN\n",
    "theta=ds.Ttave.where(ds.Ttave!=0)\n",
    "salt=ds.Stave.where(ds.Stave!=0)\n",
    "# plot last step\n",
    "k = -1\n",
    "ph0 = theta.isel(time=k,Z=0).plot(ax=ax1[0,0],vmin=-2, vmax = 30)\n",
    "ph1 = salt.isel(time=k,Z=0).plot(ax=ax1[0,1])\n",
    "ph2 = theta.isel(time=k,Z=10).plot(ax=ax1[1,0],vmin=-2, vmax = 4)\n",
    "ph3 = salt.isel(time=k,Z=10).plot(ax=ax1[1,1])\n",
    "plt.tight_layout()"
   ]
  },
  {
   "cell_type": "markdown",
   "id": "separate-keyboard",
   "metadata": {},
   "source": [
    "compute stream horizontal stream function and Eulerian overturning stream function \n",
    "\n",
    "**Note: Eulerian means is not the correct way of computing the overturning stream function, we do it here for simplicity only!!**"
   ]
  },
  {
   "cell_type": "code",
   "execution_count": 4,
   "id": "warming-tribe",
   "metadata": {},
   "outputs": [
    {
     "data": {
      "application/vnd.jupyter.widget-view+json": {
       "model_id": "5060ab91d825480e8964339327479552",
       "version_major": 2,
       "version_minor": 0
      },
      "text/plain": [
       "Canvas(toolbar=Toolbar(toolitems=[('Home', 'Reset original view', 'home', 'home'), ('Back', 'Back to previous …"
      ]
     },
     "metadata": {},
     "output_type": "display_data"
    }
   ],
   "source": [
    "eta = ds.ETAtave.isel(time=-1).where(ds.Depth!=0)\n",
    "\n",
    "uh = (ds.uVeltave.isel(time=k) * ds.hFacW * ds.drF * ds.dyG).sum(axis=0)\n",
    "# replace zeros by NaN\n",
    "# by convention, I integrate from north to south; masking is only approximate\n",
    "barostrfct = (uh[::-1,:].cumsum(axis=0)[::-1,:]).where(uh!=0)*1e-6\n",
    "\n",
    "# Eulerian average is not the correct way of doing this, but it's simple, so we do it for illustration only!!!\n",
    "vv = (ds.vVeltave.isel(time=k) * ds.hFacS * ds.drF * ds.dxG).sum(axis=-1)\n",
    "# integrate from top to bottom for Eulerian\n",
    "ovrtstrfct = -vv[::-1,:].cumsum(axis=0).where(vv!=0) * 1e-6\n",
    "\n",
    "fig2,ax2 = plt.subplots(3,1,figsize=(10,12))\n",
    "phe = eta.plot.contourf(ax=ax2[0],cmap=plt.cm.viridis,levels=20)\n",
    "phb = barostrfct.plot.contourf(ax=ax2[1],cmap=plt.cm.viridis,levels=20)\n",
    "pho = ovrtstrfct.plot.contourf(ax=ax2[2],cmap=plt.cm.viridis,levels=20)\n",
    "ax2[1].title.set_text('Barotropic streamfunction (Sv)')\n",
    "ax2[2].title.set_text('Eulerian Overturning streamfunction (Sv) (DON''T USE)')\n",
    "plt.tight_layout()"
   ]
  },
  {
   "cell_type": "code",
   "execution_count": null,
   "id": "commercial-cathedral",
   "metadata": {},
   "outputs": [],
   "source": []
  }
 ],
 "metadata": {
  "kernelspec": {
   "display_name": "Python 3",
   "language": "python",
   "name": "python3"
  },
  "language_info": {
   "codemirror_mode": {
    "name": "ipython",
    "version": 3
   },
   "file_extension": ".py",
   "mimetype": "text/x-python",
   "name": "python",
   "nbconvert_exporter": "python",
   "pygments_lexer": "ipython3",
   "version": "3.9.1"
  }
 },
 "nbformat": 4,
 "nbformat_minor": 5
}
