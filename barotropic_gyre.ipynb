{
 "cells": [
  {
   "cell_type": "markdown",
   "id": "embedded-musician",
   "metadata": {},
   "source": [
    "# Simple plots\n",
    "after running the verification experiment tutorial_barotropic_gyre in \"myrun\" with \n",
    " useSingleCPUio = .TRUE.,\n",
    " dumpInitAndLast = .FALSE.,\n",
    " monitorFreq = 864000.,\n",
    " dumpFreq = 8640000.,\n",
    "and for 1000 days (72000 timesteps), run this notebook to plot sea surface height \"eta\".\n",
    "You can also modify the parameters in the namelist file to reduce the amount of lateral friction and rerun the model."
   ]
  },
  {
   "cell_type": "code",
   "execution_count": 2,
   "id": "regular-premium",
   "metadata": {},
   "outputs": [],
   "source": [
    "%matplotlib widget\n",
    "\n",
    "import numpy as np\n",
    "import matplotlib.pyplot as plt\n",
    "import os\n",
    "# helper function\n",
    "def sq(a):\n",
    "    a = np.squeeze(a)\n",
    "    return np.ma.masked_array(a==0.,a)\n",
    "\n",
    "bdir = '/Users/mlosch/Documents/teaching/GLOMAR/AdvancedOceanModelling/MITgcm/verification'\n",
    "experiment0 = 'tutorial_barotropic_gyre/run'\n",
    "experiment1 = 'tutorial_barotropic_gyre/run_noadv'"
   ]
  },
  {
   "cell_type": "markdown",
   "id": "polar-notification",
   "metadata": {},
   "source": [
    "either read with MITgcmutils and plot with matplotlib functions ..."
   ]
  },
  {
   "cell_type": "code",
   "execution_count": 3,
   "id": "lesbian-anthropology",
   "metadata": {},
   "outputs": [],
   "source": [
    "from MITgcmutils import rdmds\n",
    "\n",
    "m2km=1e-3\n",
    "xg = rdmds(os.path.join(bdir,experiment0,'XG'))*m2km\n",
    "yg = rdmds(os.path.join(bdir,experiment0,'YG'))*m2km\n",
    "xc = rdmds(os.path.join(bdir,experiment0,'XC'))*m2km\n",
    "yc = rdmds(os.path.join(bdir,experiment0,'YC'))*m2km\n",
    "\n",
    "eta0 = rdmds(os.path.join(bdir,experiment0,'Eta'),np.NaN)\n",
    "eta1 = rdmds(os.path.join(bdir,experiment1,'Eta'),np.NaN)"
   ]
  },
  {
   "cell_type": "markdown",
   "id": "judicial-virgin",
   "metadata": {},
   "source": [
    "plot last output and compare experiment 0 and 1"
   ]
  },
  {
   "cell_type": "code",
   "execution_count": 4,
   "id": "criminal-anime",
   "metadata": {},
   "outputs": [
    {
     "data": {
      "application/vnd.jupyter.widget-view+json": {
       "model_id": "22fbcbaa3360477cad9625d96d40796d",
       "version_major": 2,
       "version_minor": 0
      },
      "text/plain": [
       "Canvas(toolbar=Toolbar(toolitems=[('Home', 'Reset original view', 'home', 'home'), ('Back', 'Back to previous …"
      ]
     },
     "metadata": {},
     "output_type": "display_data"
    },
    {
     "data": {
      "text/plain": [
       "<matplotlib.colorbar.Colorbar at 0x1100fbd30>"
      ]
     },
     "execution_count": 4,
     "metadata": {},
     "output_type": "execute_result"
    }
   ],
   "source": [
    "mytime = -1\n",
    "mycmap = plt.cm.viridis\n",
    "plt.close('all')\n",
    "fig1,ax1 = plt.subplots(1,2,sharex=True,sharey=True,figsize=(8,3.5))\n",
    "csf = ax1[0].contourf(xc,yc,eta0[mytime,:,:],cmap=mycmap,levels=np.linspace(-0.06,0.06,21))\n",
    "csf = ax1[1].contourf(xc,yc,eta1[mytime,:,:],cmap=mycmap,levels=np.linspace(-0.06,0.06,21))\n",
    "# alternatively as pcolormesh plots\n",
    "#csf = ax1[0].pcolormesh(xg,yg,eta0[mytime,:,:],cmap=mycmap,vmin=-0.05,vmax=0.05)\n",
    "#csf = ax1[1].pcolormesh(xg,yg,eta1[mytime,:,:],cmap=mycmap,vmin=-0.05,vmax=0.05)\n",
    "ax1[0].set_title('exp 0')\n",
    "ax1[1].set_title('exp 1')\n",
    "ax1[0].set_ylabel('Y (km)')\n",
    "ax1[0].set_xlabel('X (km)')\n",
    "ax1[1].set_xlabel('X (km)')\n",
    "\n",
    "plt.colorbar(csf,ax=ax1[1])"
   ]
  },
  {
   "cell_type": "markdown",
   "id": "proud-journalism",
   "metadata": {},
   "source": [
    "... or read with xmitgcm and plot using xarray methods"
   ]
  },
  {
   "cell_type": "code",
   "execution_count": 5,
   "id": "sapphire-video",
   "metadata": {},
   "outputs": [],
   "source": [
    "from xmitgcm import open_mdsdataset\n",
    "\n",
    "ds = 0.\n",
    "import warnings\n",
    "warnings.filterwarnings('ignore')\n",
    "# suppress numerous warnings only when reading data into the workspace with xmitgcm.open_mdsdataset\n",
    "with warnings.catch_warnings():\n",
    "    ds = open_mdsdataset(os.path.join(bdir,experiment0), prefix = 'Eta', geometry='cartesian')\n",
    "    # this only works if you remove all files with timestep number zero, like : rm *.0000000000.??ta\n",
    "    #ds = open_mdsdataset(os.path.join(bdir,experiment1), geometry='cartesian')\n",
    "\n",
    "\n",
    "#ds.Eta.isel(time=mytime).plot.contourf(ax=ax1[0],cmap=mycmap,levels=np.linspace(-0.06,0.06,21))\n",
    "\n",
    "ds.Eta.isel(time=mytime).plot.pcolormesh(ax=ax1[1],cmap=mycmap,levels=np.linspace(-0.06,0.06,21))\n",
    "\n",
    "plt.tight_layout()"
   ]
  },
  {
   "cell_type": "markdown",
   "id": "lesbian-event",
   "metadata": {},
   "source": [
    "# if you prefer contour plots:"
   ]
  },
  {
   "cell_type": "code",
   "execution_count": 6,
   "id": "remarkable-mattress",
   "metadata": {},
   "outputs": [],
   "source": [
    "#plt.close('all')\n",
    "#ds.Eta.plot.contourf(cmap=plt.cm.viridis,x=\"XC\", y=\"YC\", col=\"time\", col_wrap=5,\n",
    "#                                               levels=np.linspace(-0.06,0.06,21))"
   ]
  },
  {
   "cell_type": "code",
   "execution_count": 7,
   "id": "beautiful-quantity",
   "metadata": {},
   "outputs": [
    {
     "data": {
      "application/vnd.jupyter.widget-view+json": {
       "model_id": "049f108f03834071a03eae304f3e9b53",
       "version_major": 2,
       "version_minor": 0
      },
      "text/plain": [
       "Canvas(toolbar=Toolbar(toolitems=[('Home', 'Reset original view', 'home', 'home'), ('Back', 'Back to previous …"
      ]
     },
     "metadata": {},
     "output_type": "display_data"
    }
   ],
   "source": [
    "from matplotlib.animation import FuncAnimation\n",
    "\n",
    "fig2,ax2=plt.subplots(1,1)\n",
    "\n",
    "e = ds.Eta.where(ds.Eta!=0)\n",
    "time=ds.time\n",
    "mylevs=np.linspace(-0.04,0.08,21)\n",
    "t=1\n",
    "csf=e.isel(time=t).plot.contourf(ax=ax2,cmap=plt.cm.viridis,levels=mylevs)\n",
    "#ax2.title.set_text('iter = %i, time = %s'%(e.iter[t],np.datetime_as_string(e.time[t], unit='s')))\n",
    "#print(np.datetime_as_string(time[t], unit='s'))\n",
    "ax2.title.set_text('iter = %i'%(e.iter[t]))\n",
    "plt.tight_layout()\n",
    "    \n",
    "def animate(t):\n",
    "    ax2.cla()\n",
    "    ax2.contourf(ds.XC,ds.YC,e.isel(time=t).data, cmap=plt.cm.viridis, levels=mylevs)\n",
    "#    ax2.title.set_text('iter = %i, time = %s'%(e.iter[t],np.datetime_as_string(e.time[t], unit='s')))\n",
    "    ax2.title.set_text('iter = %i'%(e.iter[t]))\n",
    "    plt.tight_layout()"
   ]
  },
  {
   "cell_type": "code",
   "execution_count": 8,
   "id": "bearing-sierra",
   "metadata": {},
   "outputs": [],
   "source": [
    "anim = FuncAnimation(\n",
    "    fig2, animate, interval=100, frames=len(e.time)-1)\n",
    " \n",
    "anim.save('animation.mp4')\n",
    "#fig2.show()"
   ]
  },
  {
   "cell_type": "code",
   "execution_count": null,
   "id": "fallen-masters",
   "metadata": {},
   "outputs": [],
   "source": []
  },
  {
   "cell_type": "code",
   "execution_count": null,
   "id": "latter-southeast",
   "metadata": {},
   "outputs": [],
   "source": []
  }
 ],
 "metadata": {
  "kernelspec": {
   "display_name": "Python 3",
   "language": "python",
   "name": "python3"
  },
  "language_info": {
   "codemirror_mode": {
    "name": "ipython",
    "version": 3
   },
   "file_extension": ".py",
   "mimetype": "text/x-python",
   "name": "python",
   "nbconvert_exporter": "python",
   "pygments_lexer": "ipython3",
   "version": "3.9.1"
  }
 },
 "nbformat": 4,
 "nbformat_minor": 5
}
