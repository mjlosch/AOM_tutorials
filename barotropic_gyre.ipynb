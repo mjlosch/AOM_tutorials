{
 "cells": [
  {
   "cell_type": "markdown",
   "id": "powered-credit",
   "metadata": {},
   "source": [
    "# Simple plots\n",
    "after running the verification experiment tutorial_barotropic_gyre in \"myrun\" with \n",
    " useSingleCPUio = .TRUE.,\n",
    " dumpInitAndLast = .FALSE.,\n",
    " monitorFreq = 86400.,\n",
    " dumpFreq = 864000.,\n",
    "and for 100 days (7200 timesteps), run this notebook to plot sea surface height \"eta\""
   ]
  },
  {
   "cell_type": "code",
   "execution_count": 1,
   "id": "confused-forward",
   "metadata": {},
   "outputs": [],
   "source": [
    "%matplotlib widget\n",
    "\n",
    "import numpy as np\n",
    "import matplotlib.pyplot as plt\n",
    "import os\n",
    "# helper function\n",
    "def sq(a):\n",
    "    a = np.squeeze(a)\n",
    "    return np.ma.masked_array(a==0.,a)\n",
    "\n",
    "bdir = '/Users/mlosch/Documents/teaching/GLOMAR/AdvancedOceanModelling/MITgcm/verification'\n",
    "experiment = 'tutorial_barotropic_gyre/myrun'"
   ]
  },
  {
   "cell_type": "markdown",
   "id": "simple-damage",
   "metadata": {},
   "source": [
    "either read with MITgcmutils and plot with matplotlib functions ..."
   ]
  },
  {
   "cell_type": "code",
   "execution_count": 2,
   "id": "familiar-authorization",
   "metadata": {},
   "outputs": [
    {
     "data": {
      "application/vnd.jupyter.widget-view+json": {
       "model_id": "56e174b6d9e543e3beecf625de68379d",
       "version_major": 2,
       "version_minor": 0
      },
      "text/plain": [
       "Canvas(toolbar=Toolbar(toolitems=[('Home', 'Reset original view', 'home', 'home'), ('Back', 'Back to previous …"
      ]
     },
     "metadata": {},
     "output_type": "display_data"
    },
    {
     "name": "stderr",
     "output_type": "stream",
     "text": [
      "<ipython-input-2-bd0be7c931d3>:15: MatplotlibDeprecationWarning: shading='flat' when X and Y have the same dimensions as C is deprecated since 3.3.  Either specify the corners of the quadrilaterals with X and Y, or pass shading='auto', 'nearest' or 'gouraud', or set rcParams['pcolor.shading'].  This will become an error two minor releases later.\n",
      "  csf = ax1[0].pcolormesh(xg,yg,eta[mytime,:,:],cmap=mycmap,vmin=-0.05,vmax=0.05)\n"
     ]
    },
    {
     "data": {
      "text/plain": [
       "<matplotlib.colorbar.Colorbar at 0x132e2a8b0>"
      ]
     },
     "execution_count": 2,
     "metadata": {},
     "output_type": "execute_result"
    }
   ],
   "source": [
    "from MITgcmutils import rdmds\n",
    "\n",
    "xg = rdmds(os.path.join(bdir,experiment,'XG'))\n",
    "yg = rdmds(os.path.join(bdir,experiment,'YG'))\n",
    "xc = rdmds(os.path.join(bdir,experiment,'XC'))\n",
    "yc = rdmds(os.path.join(bdir,experiment,'YC'))\n",
    "\n",
    "eta = rdmds(os.path.join(bdir,experiment,'Eta'),np.NaN)\n",
    "\n",
    "mytime = -1\n",
    "mycmap = plt.cm.viridis\n",
    "\n",
    "plt.close('all')\n",
    "fig1,ax1 = plt.subplots(1,2,sharex=True,sharey=True,figsize=(8,3.5))\n",
    "csf = ax1[0].pcolormesh(xg,yg,eta[mytime,:,:],cmap=mycmap,vmin=-0.05,vmax=0.05)\n",
    "plt.colorbar(csf,ax=ax1[0])"
   ]
  },
  {
   "cell_type": "markdown",
   "id": "comic-bulletin",
   "metadata": {},
   "source": [
    "... or read with xmitgcm and plot using xarray methods"
   ]
  },
  {
   "cell_type": "code",
   "execution_count": 3,
   "id": "favorite-badge",
   "metadata": {},
   "outputs": [],
   "source": [
    "from xmitgcm import open_mdsdataset\n",
    "\n",
    "import warnings\n",
    "warnings.filterwarnings('ignore')\n",
    "# suppress numerous warnings only when reading data into the workspace with xmitgcm.open_mdsdataset\n",
    "with warnings.catch_warnings():\n",
    "    ds = open_mdsdataset(os.path.join(bdir,experiment),geometry='cartesian')\n",
    "\n",
    "ds.Eta.isel(time=mytime).plot(ax=ax1[1],cmap=mycmap,vmin=-0.05,vmax=0.05)\n",
    "plt.tight_layout()"
   ]
  },
  {
   "cell_type": "markdown",
   "id": "handy-furniture",
   "metadata": {},
   "source": [
    "# if you prefer contour plots:"
   ]
  },
  {
   "cell_type": "code",
   "execution_count": 4,
   "id": "considered-nirvana",
   "metadata": {},
   "outputs": [
    {
     "data": {
      "application/vnd.jupyter.widget-view+json": {
       "model_id": "a4a89fcff2d04804bdb924c9e9105f5b",
       "version_major": 2,
       "version_minor": 0
      },
      "text/plain": [
       "Canvas(toolbar=Toolbar(toolitems=[('Home', 'Reset original view', 'home', 'home'), ('Back', 'Back to previous …"
      ]
     },
     "metadata": {},
     "output_type": "display_data"
    }
   ],
   "source": [
    "fig2,ax2=plt.subplots(1,1)\n",
    "ds.Eta.isel(time=mytime).plot.contourf(ax=ax2,cmap=plt.cm.viridis,levels=np.linspace(-0.06,0.06,21))\n",
    "plt.tight_layout()"
   ]
  },
  {
   "cell_type": "code",
   "execution_count": null,
   "id": "found-model",
   "metadata": {},
   "outputs": [],
   "source": []
  }
 ],
 "metadata": {
  "kernelspec": {
   "display_name": "Python 3",
   "language": "python",
   "name": "python3"
  },
  "language_info": {
   "codemirror_mode": {
    "name": "ipython",
    "version": 3
   },
   "file_extension": ".py",
   "mimetype": "text/x-python",
   "name": "python",
   "nbconvert_exporter": "python",
   "pygments_lexer": "ipython3",
   "version": "3.9.1"
  }
 },
 "nbformat": 4,
 "nbformat_minor": 5
}
